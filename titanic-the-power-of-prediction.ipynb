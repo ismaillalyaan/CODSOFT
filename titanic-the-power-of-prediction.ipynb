{
 "cells": [
  {
   "cell_type": "markdown",
   "id": "2880c344",
   "metadata": {
    "papermill": {
     "duration": 0.009607,
     "end_time": "2024-09-28T21:35:47.839914",
     "exception": false,
     "start_time": "2024-09-28T21:35:47.830307",
     "status": "completed"
    },
    "tags": []
   },
   "source": [
    "# Titanic - Machine Learning from Disaster\r",
    "Our project aims to predict the numbers of Titanic crash survivors!\r\n"
   ]
  },
  {
   "cell_type": "markdown",
   "id": "e85c4d8a",
   "metadata": {
    "papermill": {
     "duration": 0.0087,
     "end_time": "2024-09-28T21:35:47.857727",
     "exception": false,
     "start_time": "2024-09-28T21:35:47.849027",
     "status": "completed"
    },
    "tags": []
   },
   "source": [
    "### Importing Libraries"
   ]
  },
  {
   "cell_type": "code",
   "execution_count": 1,
   "id": "c77ca251",
   "metadata": {
    "execution": {
     "iopub.execute_input": "2024-09-28T21:35:47.878338Z",
     "iopub.status.busy": "2024-09-28T21:35:47.877883Z",
     "iopub.status.idle": "2024-09-28T21:35:51.022896Z",
     "shell.execute_reply": "2024-09-28T21:35:51.021728Z"
    },
    "papermill": {
     "duration": 3.159129,
     "end_time": "2024-09-28T21:35:51.025798",
     "exception": false,
     "start_time": "2024-09-28T21:35:47.866669",
     "status": "completed"
    },
    "tags": []
   },
   "outputs": [],
   "source": [
    "import numpy as np\n",
    "import pandas as pd\n",
    "\n",
    "import matplotlib.pyplot as plt\n",
    "import seaborn as sns\n",
    "\n",
    "from sklearn.linear_model import LogisticRegression\n",
    "from sklearn.tree import DecisionTreeClassifier\n",
    "from sklearn.ensemble import RandomForestClassifier\n",
    "from sklearn.neighbors import KNeighborsClassifier\n",
    "from sklearn.svm import SVC\n",
    "from sklearn.ensemble import GradientBoostingClassifier\n",
    "from sklearn.naive_bayes import GaussianNB\n",
    "\n",
    "from sklearn.model_selection import train_test_split\n",
    "\n",
    "from sklearn.preprocessing import StandardScaler\n",
    "from sklearn.preprocessing import LabelEncoder\n",
    "\n",
    "from sklearn.impute import SimpleImputer \n",
    "\n",
    "from sklearn.metrics import accuracy_score , recall_score , precision_score , f1_score\n",
    "\n",
    "import warnings\n",
    "warnings.filterwarnings(\"ignore\")"
   ]
  },
  {
   "cell_type": "markdown",
   "id": "5700e758",
   "metadata": {
    "papermill": {
     "duration": 0.010218,
     "end_time": "2024-09-28T21:35:51.045987",
     "exception": false,
     "start_time": "2024-09-28T21:35:51.035769",
     "status": "completed"
    },
    "tags": []
   },
   "source": [
    "### Read data"
   ]
  },
  {
   "cell_type": "code",
   "execution_count": 2,
   "id": "96db467b",
   "metadata": {
    "execution": {
     "iopub.execute_input": "2024-09-28T21:35:51.066943Z",
     "iopub.status.busy": "2024-09-28T21:35:51.065716Z",
     "iopub.status.idle": "2024-09-28T21:35:51.099166Z",
     "shell.execute_reply": "2024-09-28T21:35:51.097767Z"
    },
    "papermill": {
     "duration": 0.046634,
     "end_time": "2024-09-28T21:35:51.101989",
     "exception": false,
     "start_time": "2024-09-28T21:35:51.055355",
     "status": "completed"
    },
    "tags": []
   },
   "outputs": [],
   "source": [
    "train_d = pd.read_csv('/kaggle/input/titanic/train.csv')\n",
    "test_d = pd.read_csv('/kaggle/input/titanic/test.csv')"
   ]
  },
  {
   "cell_type": "code",
   "execution_count": 3,
   "id": "cba2b147",
   "metadata": {
    "execution": {
     "iopub.execute_input": "2024-09-28T21:35:51.122493Z",
     "iopub.status.busy": "2024-09-28T21:35:51.121920Z",
     "iopub.status.idle": "2024-09-28T21:35:51.152332Z",
     "shell.execute_reply": "2024-09-28T21:35:51.150948Z"
    },
    "papermill": {
     "duration": 0.043432,
     "end_time": "2024-09-28T21:35:51.154776",
     "exception": false,
     "start_time": "2024-09-28T21:35:51.111344",
     "status": "completed"
    },
    "tags": []
   },
   "outputs": [
    {
     "data": {
      "text/html": [
       "<div>\n",
       "<style scoped>\n",
       "    .dataframe tbody tr th:only-of-type {\n",
       "        vertical-align: middle;\n",
       "    }\n",
       "\n",
       "    .dataframe tbody tr th {\n",
       "        vertical-align: top;\n",
       "    }\n",
       "\n",
       "    .dataframe thead th {\n",
       "        text-align: right;\n",
       "    }\n",
       "</style>\n",
       "<table border=\"1\" class=\"dataframe\">\n",
       "  <thead>\n",
       "    <tr style=\"text-align: right;\">\n",
       "      <th></th>\n",
       "      <th>PassengerId</th>\n",
       "      <th>Survived</th>\n",
       "      <th>Pclass</th>\n",
       "      <th>Name</th>\n",
       "      <th>Sex</th>\n",
       "      <th>Age</th>\n",
       "      <th>SibSp</th>\n",
       "      <th>Parch</th>\n",
       "      <th>Ticket</th>\n",
       "      <th>Fare</th>\n",
       "      <th>Cabin</th>\n",
       "      <th>Embarked</th>\n",
       "    </tr>\n",
       "  </thead>\n",
       "  <tbody>\n",
       "    <tr>\n",
       "      <th>0</th>\n",
       "      <td>1</td>\n",
       "      <td>0</td>\n",
       "      <td>3</td>\n",
       "      <td>Braund, Mr. Owen Harris</td>\n",
       "      <td>male</td>\n",
       "      <td>22.0</td>\n",
       "      <td>1</td>\n",
       "      <td>0</td>\n",
       "      <td>A/5 21171</td>\n",
       "      <td>7.2500</td>\n",
       "      <td>NaN</td>\n",
       "      <td>S</td>\n",
       "    </tr>\n",
       "    <tr>\n",
       "      <th>1</th>\n",
       "      <td>2</td>\n",
       "      <td>1</td>\n",
       "      <td>1</td>\n",
       "      <td>Cumings, Mrs. John Bradley (Florence Briggs Th...</td>\n",
       "      <td>female</td>\n",
       "      <td>38.0</td>\n",
       "      <td>1</td>\n",
       "      <td>0</td>\n",
       "      <td>PC 17599</td>\n",
       "      <td>71.2833</td>\n",
       "      <td>C85</td>\n",
       "      <td>C</td>\n",
       "    </tr>\n",
       "    <tr>\n",
       "      <th>2</th>\n",
       "      <td>3</td>\n",
       "      <td>1</td>\n",
       "      <td>3</td>\n",
       "      <td>Heikkinen, Miss. Laina</td>\n",
       "      <td>female</td>\n",
       "      <td>26.0</td>\n",
       "      <td>0</td>\n",
       "      <td>0</td>\n",
       "      <td>STON/O2. 3101282</td>\n",
       "      <td>7.9250</td>\n",
       "      <td>NaN</td>\n",
       "      <td>S</td>\n",
       "    </tr>\n",
       "    <tr>\n",
       "      <th>3</th>\n",
       "      <td>4</td>\n",
       "      <td>1</td>\n",
       "      <td>1</td>\n",
       "      <td>Futrelle, Mrs. Jacques Heath (Lily May Peel)</td>\n",
       "      <td>female</td>\n",
       "      <td>35.0</td>\n",
       "      <td>1</td>\n",
       "      <td>0</td>\n",
       "      <td>113803</td>\n",
       "      <td>53.1000</td>\n",
       "      <td>C123</td>\n",
       "      <td>S</td>\n",
       "    </tr>\n",
       "    <tr>\n",
       "      <th>4</th>\n",
       "      <td>5</td>\n",
       "      <td>0</td>\n",
       "      <td>3</td>\n",
       "      <td>Allen, Mr. William Henry</td>\n",
       "      <td>male</td>\n",
       "      <td>35.0</td>\n",
       "      <td>0</td>\n",
       "      <td>0</td>\n",
       "      <td>373450</td>\n",
       "      <td>8.0500</td>\n",
       "      <td>NaN</td>\n",
       "      <td>S</td>\n",
       "    </tr>\n",
       "  </tbody>\n",
       "</table>\n",
       "</div>"
      ],
      "text/plain": [
       "   PassengerId  Survived  Pclass  \\\n",
       "0            1         0       3   \n",
       "1            2         1       1   \n",
       "2            3         1       3   \n",
       "3            4         1       1   \n",
       "4            5         0       3   \n",
       "\n",
       "                                                Name     Sex   Age  SibSp  \\\n",
       "0                            Braund, Mr. Owen Harris    male  22.0      1   \n",
       "1  Cumings, Mrs. John Bradley (Florence Briggs Th...  female  38.0      1   \n",
       "2                             Heikkinen, Miss. Laina  female  26.0      0   \n",
       "3       Futrelle, Mrs. Jacques Heath (Lily May Peel)  female  35.0      1   \n",
       "4                           Allen, Mr. William Henry    male  35.0      0   \n",
       "\n",
       "   Parch            Ticket     Fare Cabin Embarked  \n",
       "0      0         A/5 21171   7.2500   NaN        S  \n",
       "1      0          PC 17599  71.2833   C85        C  \n",
       "2      0  STON/O2. 3101282   7.9250   NaN        S  \n",
       "3      0            113803  53.1000  C123        S  \n",
       "4      0            373450   8.0500   NaN        S  "
      ]
     },
     "execution_count": 3,
     "metadata": {},
     "output_type": "execute_result"
    }
   ],
   "source": [
    "train_d.head()"
   ]
  },
  {
   "cell_type": "code",
   "execution_count": 4,
   "id": "780fbec4",
   "metadata": {
    "execution": {
     "iopub.execute_input": "2024-09-28T21:35:51.176005Z",
     "iopub.status.busy": "2024-09-28T21:35:51.175173Z",
     "iopub.status.idle": "2024-09-28T21:35:51.190299Z",
     "shell.execute_reply": "2024-09-28T21:35:51.189238Z"
    },
    "papermill": {
     "duration": 0.02825,
     "end_time": "2024-09-28T21:35:51.192692",
     "exception": false,
     "start_time": "2024-09-28T21:35:51.164442",
     "status": "completed"
    },
    "tags": []
   },
   "outputs": [
    {
     "data": {
      "text/html": [
       "<div>\n",
       "<style scoped>\n",
       "    .dataframe tbody tr th:only-of-type {\n",
       "        vertical-align: middle;\n",
       "    }\n",
       "\n",
       "    .dataframe tbody tr th {\n",
       "        vertical-align: top;\n",
       "    }\n",
       "\n",
       "    .dataframe thead th {\n",
       "        text-align: right;\n",
       "    }\n",
       "</style>\n",
       "<table border=\"1\" class=\"dataframe\">\n",
       "  <thead>\n",
       "    <tr style=\"text-align: right;\">\n",
       "      <th></th>\n",
       "      <th>PassengerId</th>\n",
       "      <th>Pclass</th>\n",
       "      <th>Name</th>\n",
       "      <th>Sex</th>\n",
       "      <th>Age</th>\n",
       "      <th>SibSp</th>\n",
       "      <th>Parch</th>\n",
       "      <th>Ticket</th>\n",
       "      <th>Fare</th>\n",
       "      <th>Cabin</th>\n",
       "      <th>Embarked</th>\n",
       "    </tr>\n",
       "  </thead>\n",
       "  <tbody>\n",
       "    <tr>\n",
       "      <th>0</th>\n",
       "      <td>892</td>\n",
       "      <td>3</td>\n",
       "      <td>Kelly, Mr. James</td>\n",
       "      <td>male</td>\n",
       "      <td>34.5</td>\n",
       "      <td>0</td>\n",
       "      <td>0</td>\n",
       "      <td>330911</td>\n",
       "      <td>7.8292</td>\n",
       "      <td>NaN</td>\n",
       "      <td>Q</td>\n",
       "    </tr>\n",
       "    <tr>\n",
       "      <th>1</th>\n",
       "      <td>893</td>\n",
       "      <td>3</td>\n",
       "      <td>Wilkes, Mrs. James (Ellen Needs)</td>\n",
       "      <td>female</td>\n",
       "      <td>47.0</td>\n",
       "      <td>1</td>\n",
       "      <td>0</td>\n",
       "      <td>363272</td>\n",
       "      <td>7.0000</td>\n",
       "      <td>NaN</td>\n",
       "      <td>S</td>\n",
       "    </tr>\n",
       "    <tr>\n",
       "      <th>2</th>\n",
       "      <td>894</td>\n",
       "      <td>2</td>\n",
       "      <td>Myles, Mr. Thomas Francis</td>\n",
       "      <td>male</td>\n",
       "      <td>62.0</td>\n",
       "      <td>0</td>\n",
       "      <td>0</td>\n",
       "      <td>240276</td>\n",
       "      <td>9.6875</td>\n",
       "      <td>NaN</td>\n",
       "      <td>Q</td>\n",
       "    </tr>\n",
       "    <tr>\n",
       "      <th>3</th>\n",
       "      <td>895</td>\n",
       "      <td>3</td>\n",
       "      <td>Wirz, Mr. Albert</td>\n",
       "      <td>male</td>\n",
       "      <td>27.0</td>\n",
       "      <td>0</td>\n",
       "      <td>0</td>\n",
       "      <td>315154</td>\n",
       "      <td>8.6625</td>\n",
       "      <td>NaN</td>\n",
       "      <td>S</td>\n",
       "    </tr>\n",
       "    <tr>\n",
       "      <th>4</th>\n",
       "      <td>896</td>\n",
       "      <td>3</td>\n",
       "      <td>Hirvonen, Mrs. Alexander (Helga E Lindqvist)</td>\n",
       "      <td>female</td>\n",
       "      <td>22.0</td>\n",
       "      <td>1</td>\n",
       "      <td>1</td>\n",
       "      <td>3101298</td>\n",
       "      <td>12.2875</td>\n",
       "      <td>NaN</td>\n",
       "      <td>S</td>\n",
       "    </tr>\n",
       "  </tbody>\n",
       "</table>\n",
       "</div>"
      ],
      "text/plain": [
       "   PassengerId  Pclass                                          Name     Sex  \\\n",
       "0          892       3                              Kelly, Mr. James    male   \n",
       "1          893       3              Wilkes, Mrs. James (Ellen Needs)  female   \n",
       "2          894       2                     Myles, Mr. Thomas Francis    male   \n",
       "3          895       3                              Wirz, Mr. Albert    male   \n",
       "4          896       3  Hirvonen, Mrs. Alexander (Helga E Lindqvist)  female   \n",
       "\n",
       "    Age  SibSp  Parch   Ticket     Fare Cabin Embarked  \n",
       "0  34.5      0      0   330911   7.8292   NaN        Q  \n",
       "1  47.0      1      0   363272   7.0000   NaN        S  \n",
       "2  62.0      0      0   240276   9.6875   NaN        Q  \n",
       "3  27.0      0      0   315154   8.6625   NaN        S  \n",
       "4  22.0      1      1  3101298  12.2875   NaN        S  "
      ]
     },
     "execution_count": 4,
     "metadata": {},
     "output_type": "execute_result"
    }
   ],
   "source": [
    "test_d.head()"
   ]
  },
  {
   "cell_type": "code",
   "execution_count": 5,
   "id": "36e05262",
   "metadata": {
    "execution": {
     "iopub.execute_input": "2024-09-28T21:35:51.213623Z",
     "iopub.status.busy": "2024-09-28T21:35:51.213186Z",
     "iopub.status.idle": "2024-09-28T21:35:51.246380Z",
     "shell.execute_reply": "2024-09-28T21:35:51.245176Z"
    },
    "papermill": {
     "duration": 0.046521,
     "end_time": "2024-09-28T21:35:51.248911",
     "exception": false,
     "start_time": "2024-09-28T21:35:51.202390",
     "status": "completed"
    },
    "tags": []
   },
   "outputs": [
    {
     "name": "stdout",
     "output_type": "stream",
     "text": [
      "<class 'pandas.core.frame.DataFrame'>\n",
      "RangeIndex: 891 entries, 0 to 890\n",
      "Data columns (total 12 columns):\n",
      " #   Column       Non-Null Count  Dtype  \n",
      "---  ------       --------------  -----  \n",
      " 0   PassengerId  891 non-null    int64  \n",
      " 1   Survived     891 non-null    int64  \n",
      " 2   Pclass       891 non-null    int64  \n",
      " 3   Name         891 non-null    object \n",
      " 4   Sex          891 non-null    object \n",
      " 5   Age          714 non-null    float64\n",
      " 6   SibSp        891 non-null    int64  \n",
      " 7   Parch        891 non-null    int64  \n",
      " 8   Ticket       891 non-null    object \n",
      " 9   Fare         891 non-null    float64\n",
      " 10  Cabin        204 non-null    object \n",
      " 11  Embarked     889 non-null    object \n",
      "dtypes: float64(2), int64(5), object(5)\n",
      "memory usage: 83.7+ KB\n",
      "<class 'pandas.core.frame.DataFrame'>\n",
      "RangeIndex: 418 entries, 0 to 417\n",
      "Data columns (total 11 columns):\n",
      " #   Column       Non-Null Count  Dtype  \n",
      "---  ------       --------------  -----  \n",
      " 0   PassengerId  418 non-null    int64  \n",
      " 1   Pclass       418 non-null    int64  \n",
      " 2   Name         418 non-null    object \n",
      " 3   Sex          418 non-null    object \n",
      " 4   Age          332 non-null    float64\n",
      " 5   SibSp        418 non-null    int64  \n",
      " 6   Parch        418 non-null    int64  \n",
      " 7   Ticket       418 non-null    object \n",
      " 8   Fare         417 non-null    float64\n",
      " 9   Cabin        91 non-null     object \n",
      " 10  Embarked     418 non-null    object \n",
      "dtypes: float64(2), int64(4), object(5)\n",
      "memory usage: 36.0+ KB\n"
     ]
    },
    {
     "data": {
      "text/plain": [
       "(None, None)"
      ]
     },
     "execution_count": 5,
     "metadata": {},
     "output_type": "execute_result"
    }
   ],
   "source": [
    "train_d.info() , test_d.info()"
   ]
  },
  {
   "cell_type": "markdown",
   "id": "7f9ddd61",
   "metadata": {
    "papermill": {
     "duration": 0.009666,
     "end_time": "2024-09-28T21:35:51.268522",
     "exception": false,
     "start_time": "2024-09-28T21:35:51.258856",
     "status": "completed"
    },
    "tags": []
   },
   "source": [
    "## Step 1: Clean Data"
   ]
  },
  {
   "cell_type": "code",
   "execution_count": 6,
   "id": "8bb66864",
   "metadata": {
    "execution": {
     "iopub.execute_input": "2024-09-28T21:35:51.290068Z",
     "iopub.status.busy": "2024-09-28T21:35:51.289659Z",
     "iopub.status.idle": "2024-09-28T21:35:51.299772Z",
     "shell.execute_reply": "2024-09-28T21:35:51.298431Z"
    },
    "papermill": {
     "duration": 0.023841,
     "end_time": "2024-09-28T21:35:51.302312",
     "exception": false,
     "start_time": "2024-09-28T21:35:51.278471",
     "status": "completed"
    },
    "tags": []
   },
   "outputs": [
    {
     "data": {
      "text/plain": [
       "Age         177\n",
       "Cabin       687\n",
       "Embarked      2\n",
       "dtype: int64"
      ]
     },
     "execution_count": 6,
     "metadata": {},
     "output_type": "execute_result"
    }
   ],
   "source": [
    "#Checking for the train data\n",
    "nulls = train_d.isna().sum()\n",
    "nulls[nulls > 0]"
   ]
  },
  {
   "cell_type": "code",
   "execution_count": 7,
   "id": "72cf89ba",
   "metadata": {
    "execution": {
     "iopub.execute_input": "2024-09-28T21:35:51.324922Z",
     "iopub.status.busy": "2024-09-28T21:35:51.324028Z",
     "iopub.status.idle": "2024-09-28T21:35:51.923993Z",
     "shell.execute_reply": "2024-09-28T21:35:51.922778Z"
    },
    "papermill": {
     "duration": 0.61383,
     "end_time": "2024-09-28T21:35:51.926678",
     "exception": false,
     "start_time": "2024-09-28T21:35:51.312848",
     "status": "completed"
    },
    "tags": []
   },
   "outputs": [
    {
     "data": {
      "text/plain": [
       "<Axes: >"
      ]
     },
     "execution_count": 7,
     "metadata": {},
     "output_type": "execute_result"
    },
    {
     "data": {
      "image/png": "[encoded data removed]",
      "text/plain": [
       "<Figure size 640x480 with 2 Axes>"
      ]
     },
     "metadata": {},
     "output_type": "display_data"
    }
   ],
   "source": [
    "sns.heatmap(train_d.isna())"
   ]
  },
  {
   "cell_type": "markdown",
   "id": "3f98d7e7",
   "metadata": {
    "papermill": {
     "duration": 0.010458,
     "end_time": "2024-09-28T21:35:51.948064",
     "exception": false,
     "start_time": "2024-09-28T21:35:51.937606",
     "status": "completed"
    },
    "tags": []
   },
   "source": [
    "That White lines represents a null value\n",
    "and we can see here that there are null values in Age , Cabin"
   ]
  },
  {
   "cell_type": "code",
   "execution_count": 8,
   "id": "84e4e19f",
   "metadata": {
    "execution": {
     "iopub.execute_input": "2024-09-28T21:35:51.971186Z",
     "iopub.status.busy": "2024-09-28T21:35:51.970731Z",
     "iopub.status.idle": "2024-09-28T21:35:51.981117Z",
     "shell.execute_reply": "2024-09-28T21:35:51.979909Z"
    },
    "papermill": {
     "duration": 0.024686,
     "end_time": "2024-09-28T21:35:51.983345",
     "exception": false,
     "start_time": "2024-09-28T21:35:51.958659",
     "status": "completed"
    },
    "tags": []
   },
   "outputs": [
    {
     "data": {
      "text/plain": [
       "Age       86\n",
       "Fare       1\n",
       "Cabin    327\n",
       "dtype: int64"
      ]
     },
     "execution_count": 8,
     "metadata": {},
     "output_type": "execute_result"
    }
   ],
   "source": [
    "#Checking for the test data\n",
    "nulls = test_d.isna().sum()\n",
    "nulls[nulls > 0]"
   ]
  },
  {
   "cell_type": "code",
   "execution_count": 9,
   "id": "3125abe1",
   "metadata": {
    "execution": {
     "iopub.execute_input": "2024-09-28T21:35:52.007100Z",
     "iopub.status.busy": "2024-09-28T21:35:52.006121Z",
     "iopub.status.idle": "2024-09-28T21:35:52.523848Z",
     "shell.execute_reply": "2024-09-28T21:35:52.522503Z"
    },
    "papermill": {
     "duration": 0.532246,
     "end_time": "2024-09-28T21:35:52.526383",
     "exception": false,
     "start_time": "2024-09-28T21:35:51.994137",
     "status": "completed"
    },
    "tags": []
   },
   "outputs": [
    {
     "data": {
      "text/plain": [
       "<Axes: >"
      ]
     },
     "execution_count": 9,
     "metadata": {},
     "output_type": "execute_result"
    },
    {
     "data": {
      "image/png": "[encoded data removed]",
      "text/plain": [
       "<Figure size 640x480 with 2 Axes>"
      ]
     },
     "metadata": {},
     "output_type": "display_data"
    }
   ],
   "source": [
    "sns.heatmap(test_d.isna())"
   ]
  },
  {
   "cell_type": "markdown",
   "id": "483c56e1",
   "metadata": {
    "papermill": {
     "duration": 0.01125,
     "end_time": "2024-09-28T21:35:52.549193",
     "exception": false,
     "start_time": "2024-09-28T21:35:52.537943",
     "status": "completed"
    },
    "tags": []
   },
   "source": [
    "We can see here that there are null values in Age , Fare , Cabin"
   ]
  },
  {
   "cell_type": "code",
   "execution_count": 10,
   "id": "d774141a",
   "metadata": {
    "execution": {
     "iopub.execute_input": "2024-09-28T21:35:52.574016Z",
     "iopub.status.busy": "2024-09-28T21:35:52.573614Z",
     "iopub.status.idle": "2024-09-28T21:35:52.579568Z",
     "shell.execute_reply": "2024-09-28T21:35:52.578419Z"
    },
    "papermill": {
     "duration": 0.020937,
     "end_time": "2024-09-28T21:35:52.581778",
     "exception": false,
     "start_time": "2024-09-28T21:35:52.560841",
     "status": "completed"
    },
    "tags": []
   },
   "outputs": [],
   "source": [
    "#Before Starting to delete null values lets drop useless features\n",
    "def clean(data) :\n",
    "    data.drop(columns  = ['Embarked' , 'Name' , 'Cabin' , 'Ticket'], axis = 1, inplace = True)\n",
    "    return data"
   ]
  },
  {
   "cell_type": "code",
   "execution_count": 11,
   "id": "4b601eed",
   "metadata": {
    "execution": {
     "iopub.execute_input": "2024-09-28T21:35:52.607317Z",
     "iopub.status.busy": "2024-09-28T21:35:52.606049Z",
     "iopub.status.idle": "2024-09-28T21:35:52.627852Z",
     "shell.execute_reply": "2024-09-28T21:35:52.626725Z"
    },
    "papermill": {
     "duration": 0.03706,
     "end_time": "2024-09-28T21:35:52.630297",
     "exception": false,
     "start_time": "2024-09-28T21:35:52.593237",
     "status": "completed"
    },
    "tags": []
   },
   "outputs": [
    {
     "data": {
      "text/html": [
       "<div>\n",
       "<style scoped>\n",
       "    .dataframe tbody tr th:only-of-type {\n",
       "        vertical-align: middle;\n",
       "    }\n",
       "\n",
       "    .dataframe tbody tr th {\n",
       "        vertical-align: top;\n",
       "    }\n",
       "\n",
       "    .dataframe thead th {\n",
       "        text-align: right;\n",
       "    }\n",
       "</style>\n",
       "<table border=\"1\" class=\"dataframe\">\n",
       "  <thead>\n",
       "    <tr style=\"text-align: right;\">\n",
       "      <th></th>\n",
       "      <th>PassengerId</th>\n",
       "      <th>Survived</th>\n",
       "      <th>Pclass</th>\n",
       "      <th>Sex</th>\n",
       "      <th>Age</th>\n",
       "      <th>SibSp</th>\n",
       "      <th>Parch</th>\n",
       "      <th>Fare</th>\n",
       "    </tr>\n",
       "  </thead>\n",
       "  <tbody>\n",
       "    <tr>\n",
       "      <th>0</th>\n",
       "      <td>1</td>\n",
       "      <td>0</td>\n",
       "      <td>3</td>\n",
       "      <td>male</td>\n",
       "      <td>22.0</td>\n",
       "      <td>1</td>\n",
       "      <td>0</td>\n",
       "      <td>7.2500</td>\n",
       "    </tr>\n",
       "    <tr>\n",
       "      <th>1</th>\n",
       "      <td>2</td>\n",
       "      <td>1</td>\n",
       "      <td>1</td>\n",
       "      <td>female</td>\n",
       "      <td>38.0</td>\n",
       "      <td>1</td>\n",
       "      <td>0</td>\n",
       "      <td>71.2833</td>\n",
       "    </tr>\n",
       "    <tr>\n",
       "      <th>2</th>\n",
       "      <td>3</td>\n",
       "      <td>1</td>\n",
       "      <td>3</td>\n",
       "      <td>female</td>\n",
       "      <td>26.0</td>\n",
       "      <td>0</td>\n",
       "      <td>0</td>\n",
       "      <td>7.9250</td>\n",
       "    </tr>\n",
       "    <tr>\n",
       "      <th>3</th>\n",
       "      <td>4</td>\n",
       "      <td>1</td>\n",
       "      <td>1</td>\n",
       "      <td>female</td>\n",
       "      <td>35.0</td>\n",
       "      <td>1</td>\n",
       "      <td>0</td>\n",
       "      <td>53.1000</td>\n",
       "    </tr>\n",
       "    <tr>\n",
       "      <th>4</th>\n",
       "      <td>5</td>\n",
       "      <td>0</td>\n",
       "      <td>3</td>\n",
       "      <td>male</td>\n",
       "      <td>35.0</td>\n",
       "      <td>0</td>\n",
       "      <td>0</td>\n",
       "      <td>8.0500</td>\n",
       "    </tr>\n",
       "    <tr>\n",
       "      <th>...</th>\n",
       "      <td>...</td>\n",
       "      <td>...</td>\n",
       "      <td>...</td>\n",
       "      <td>...</td>\n",
       "      <td>...</td>\n",
       "      <td>...</td>\n",
       "      <td>...</td>\n",
       "      <td>...</td>\n",
       "    </tr>\n",
       "    <tr>\n",
       "      <th>886</th>\n",
       "      <td>887</td>\n",
       "      <td>0</td>\n",
       "      <td>2</td>\n",
       "      <td>male</td>\n",
       "      <td>27.0</td>\n",
       "      <td>0</td>\n",
       "      <td>0</td>\n",
       "      <td>13.0000</td>\n",
       "    </tr>\n",
       "    <tr>\n",
       "      <th>887</th>\n",
       "      <td>888</td>\n",
       "      <td>1</td>\n",
       "      <td>1</td>\n",
       "      <td>female</td>\n",
       "      <td>19.0</td>\n",
       "      <td>0</td>\n",
       "      <td>0</td>\n",
       "      <td>30.0000</td>\n",
       "    </tr>\n",
       "    <tr>\n",
       "      <th>888</th>\n",
       "      <td>889</td>\n",
       "      <td>0</td>\n",
       "      <td>3</td>\n",
       "      <td>female</td>\n",
       "      <td>NaN</td>\n",
       "      <td>1</td>\n",
       "      <td>2</td>\n",
       "      <td>23.4500</td>\n",
       "    </tr>\n",
       "    <tr>\n",
       "      <th>889</th>\n",
       "      <td>890</td>\n",
       "      <td>1</td>\n",
       "      <td>1</td>\n",
       "      <td>male</td>\n",
       "      <td>26.0</td>\n",
       "      <td>0</td>\n",
       "      <td>0</td>\n",
       "      <td>30.0000</td>\n",
       "    </tr>\n",
       "    <tr>\n",
       "      <th>890</th>\n",
       "      <td>891</td>\n",
       "      <td>0</td>\n",
       "      <td>3</td>\n",
       "      <td>male</td>\n",
       "      <td>32.0</td>\n",
       "      <td>0</td>\n",
       "      <td>0</td>\n",
       "      <td>7.7500</td>\n",
       "    </tr>\n",
       "  </tbody>\n",
       "</table>\n",
       "<p>891 rows × 8 columns</p>\n",
       "</div>"
      ],
      "text/plain": [
       "     PassengerId  Survived  Pclass     Sex   Age  SibSp  Parch     Fare\n",
       "0              1         0       3    male  22.0      1      0   7.2500\n",
       "1              2         1       1  female  38.0      1      0  71.2833\n",
       "2              3         1       3  female  26.0      0      0   7.9250\n",
       "3              4         1       1  female  35.0      1      0  53.1000\n",
       "4              5         0       3    male  35.0      0      0   8.0500\n",
       "..           ...       ...     ...     ...   ...    ...    ...      ...\n",
       "886          887         0       2    male  27.0      0      0  13.0000\n",
       "887          888         1       1  female  19.0      0      0  30.0000\n",
       "888          889         0       3  female   NaN      1      2  23.4500\n",
       "889          890         1       1    male  26.0      0      0  30.0000\n",
       "890          891         0       3    male  32.0      0      0   7.7500\n",
       "\n",
       "[891 rows x 8 columns]"
      ]
     },
     "execution_count": 11,
     "metadata": {},
     "output_type": "execute_result"
    }
   ],
   "source": [
    "#Delete that columns from the train and test datasets\n",
    "clean(train_d)\n",
    "clean(test_d)\n",
    "train_d"
   ]
  },
  {
   "cell_type": "markdown",
   "id": "d3301f73",
   "metadata": {
    "papermill": {
     "duration": 0.011555,
     "end_time": "2024-09-28T21:35:52.653757",
     "exception": false,
     "start_time": "2024-09-28T21:35:52.642202",
     "status": "completed"
    },
    "tags": []
   },
   "source": [
    "Now the columns are deleted"
   ]
  },
  {
   "cell_type": "code",
   "execution_count": 12,
   "id": "e1c87058",
   "metadata": {
    "execution": {
     "iopub.execute_input": "2024-09-28T21:35:52.679323Z",
     "iopub.status.busy": "2024-09-28T21:35:52.678842Z",
     "iopub.status.idle": "2024-09-28T21:35:52.685357Z",
     "shell.execute_reply": "2024-09-28T21:35:52.684191Z"
    },
    "papermill": {
     "duration": 0.022223,
     "end_time": "2024-09-28T21:35:52.687894",
     "exception": false,
     "start_time": "2024-09-28T21:35:52.665671",
     "status": "completed"
    },
    "tags": []
   },
   "outputs": [],
   "source": [
    "#fill the missing values for some features\n",
    "imputer = SimpleImputer(strategy='mean')\n",
    "def impute(data):\n",
    "    data['Age'] = imputer.fit_transform(data[['Age']])\n",
    "    data['Fare'] = imputer.fit_transform(data[['Fare']])\n",
    "    return data"
   ]
  },
  {
   "cell_type": "code",
   "execution_count": 13,
   "id": "1b07b344",
   "metadata": {
    "execution": {
     "iopub.execute_input": "2024-09-28T21:35:52.713839Z",
     "iopub.status.busy": "2024-09-28T21:35:52.713387Z",
     "iopub.status.idle": "2024-09-28T21:35:53.302615Z",
     "shell.execute_reply": "2024-09-28T21:35:53.300858Z"
    },
    "papermill": {
     "duration": 0.607852,
     "end_time": "2024-09-28T21:35:53.307965",
     "exception": false,
     "start_time": "2024-09-28T21:35:52.700113",
     "status": "completed"
    },
    "tags": []
   },
   "outputs": [
    {
     "data": {
      "text/plain": [
       "<Axes: >"
      ]
     },
     "execution_count": 13,
     "metadata": {},
     "output_type": "execute_result"
    },
    {
     "data": {
      "image/png": "[encoded data removed]",
      "text/plain": [
       "<Figure size 640x480 with 2 Axes>"
      ]
     },
     "metadata": {},
     "output_type": "display_data"
    }
   ],
   "source": [
    "impute(train_d)\n",
    "impute(test_d)\n",
    "sns.heatmap(train_d.isna())"
   ]
  },
  {
   "cell_type": "markdown",
   "id": "0f84cbbb",
   "metadata": {
    "papermill": {
     "duration": 0.013118,
     "end_time": "2024-09-28T21:35:53.337303",
     "exception": false,
     "start_time": "2024-09-28T21:35:53.324185",
     "status": "completed"
    },
    "tags": []
   },
   "source": [
    "Now there are no null values"
   ]
  },
  {
   "cell_type": "markdown",
   "id": "e9f7ec2c",
   "metadata": {
    "papermill": {
     "duration": 0.012331,
     "end_time": "2024-09-28T21:35:53.362677",
     "exception": false,
     "start_time": "2024-09-28T21:35:53.350346",
     "status": "completed"
    },
    "tags": []
   },
   "source": [
    "## Step 2: Data Analysis"
   ]
  },
  {
   "cell_type": "code",
   "execution_count": 14,
   "id": "00f2b897",
   "metadata": {
    "execution": {
     "iopub.execute_input": "2024-09-28T21:35:53.391303Z",
     "iopub.status.busy": "2024-09-28T21:35:53.390877Z",
     "iopub.status.idle": "2024-09-28T21:35:53.425071Z",
     "shell.execute_reply": "2024-09-28T21:35:53.423577Z"
    },
    "papermill": {
     "duration": 0.051632,
     "end_time": "2024-09-28T21:35:53.427739",
     "exception": false,
     "start_time": "2024-09-28T21:35:53.376107",
     "status": "completed"
    },
    "tags": []
   },
   "outputs": [
    {
     "data": {
      "text/html": [
       "<div>\n",
       "<style scoped>\n",
       "    .dataframe tbody tr th:only-of-type {\n",
       "        vertical-align: middle;\n",
       "    }\n",
       "\n",
       "    .dataframe tbody tr th {\n",
       "        vertical-align: top;\n",
       "    }\n",
       "\n",
       "    .dataframe thead th {\n",
       "        text-align: right;\n",
       "    }\n",
       "</style>\n",
       "<table border=\"1\" class=\"dataframe\">\n",
       "  <thead>\n",
       "    <tr style=\"text-align: right;\">\n",
       "      <th></th>\n",
       "      <th>count</th>\n",
       "      <th>mean</th>\n",
       "      <th>std</th>\n",
       "      <th>min</th>\n",
       "      <th>25%</th>\n",
       "      <th>50%</th>\n",
       "      <th>75%</th>\n",
       "      <th>max</th>\n",
       "    </tr>\n",
       "  </thead>\n",
       "  <tbody>\n",
       "    <tr>\n",
       "      <th>PassengerId</th>\n",
       "      <td>891.0</td>\n",
       "      <td>446.000000</td>\n",
       "      <td>257.353842</td>\n",
       "      <td>1.00</td>\n",
       "      <td>223.5000</td>\n",
       "      <td>446.000000</td>\n",
       "      <td>668.5</td>\n",
       "      <td>891.0000</td>\n",
       "    </tr>\n",
       "    <tr>\n",
       "      <th>Survived</th>\n",
       "      <td>891.0</td>\n",
       "      <td>0.383838</td>\n",
       "      <td>0.486592</td>\n",
       "      <td>0.00</td>\n",
       "      <td>0.0000</td>\n",
       "      <td>0.000000</td>\n",
       "      <td>1.0</td>\n",
       "      <td>1.0000</td>\n",
       "    </tr>\n",
       "    <tr>\n",
       "      <th>Pclass</th>\n",
       "      <td>891.0</td>\n",
       "      <td>2.308642</td>\n",
       "      <td>0.836071</td>\n",
       "      <td>1.00</td>\n",
       "      <td>2.0000</td>\n",
       "      <td>3.000000</td>\n",
       "      <td>3.0</td>\n",
       "      <td>3.0000</td>\n",
       "    </tr>\n",
       "    <tr>\n",
       "      <th>Age</th>\n",
       "      <td>891.0</td>\n",
       "      <td>29.699118</td>\n",
       "      <td>13.002015</td>\n",
       "      <td>0.42</td>\n",
       "      <td>22.0000</td>\n",
       "      <td>29.699118</td>\n",
       "      <td>35.0</td>\n",
       "      <td>80.0000</td>\n",
       "    </tr>\n",
       "    <tr>\n",
       "      <th>SibSp</th>\n",
       "      <td>891.0</td>\n",
       "      <td>0.523008</td>\n",
       "      <td>1.102743</td>\n",
       "      <td>0.00</td>\n",
       "      <td>0.0000</td>\n",
       "      <td>0.000000</td>\n",
       "      <td>1.0</td>\n",
       "      <td>8.0000</td>\n",
       "    </tr>\n",
       "    <tr>\n",
       "      <th>Parch</th>\n",
       "      <td>891.0</td>\n",
       "      <td>0.381594</td>\n",
       "      <td>0.806057</td>\n",
       "      <td>0.00</td>\n",
       "      <td>0.0000</td>\n",
       "      <td>0.000000</td>\n",
       "      <td>0.0</td>\n",
       "      <td>6.0000</td>\n",
       "    </tr>\n",
       "    <tr>\n",
       "      <th>Fare</th>\n",
       "      <td>891.0</td>\n",
       "      <td>32.204208</td>\n",
       "      <td>49.693429</td>\n",
       "      <td>0.00</td>\n",
       "      <td>7.9104</td>\n",
       "      <td>14.454200</td>\n",
       "      <td>31.0</td>\n",
       "      <td>512.3292</td>\n",
       "    </tr>\n",
       "  </tbody>\n",
       "</table>\n",
       "</div>"
      ],
      "text/plain": [
       "             count        mean         std   min       25%         50%    75%  \\\n",
       "PassengerId  891.0  446.000000  257.353842  1.00  223.5000  446.000000  668.5   \n",
       "Survived     891.0    0.383838    0.486592  0.00    0.0000    0.000000    1.0   \n",
       "Pclass       891.0    2.308642    0.836071  1.00    2.0000    3.000000    3.0   \n",
       "Age          891.0   29.699118   13.002015  0.42   22.0000   29.699118   35.0   \n",
       "SibSp        891.0    0.523008    1.102743  0.00    0.0000    0.000000    1.0   \n",
       "Parch        891.0    0.381594    0.806057  0.00    0.0000    0.000000    0.0   \n",
       "Fare         891.0   32.204208   49.693429  0.00    7.9104   14.454200   31.0   \n",
       "\n",
       "                  max  \n",
       "PassengerId  891.0000  \n",
       "Survived       1.0000  \n",
       "Pclass         3.0000  \n",
       "Age           80.0000  \n",
       "SibSp          8.0000  \n",
       "Parch          6.0000  \n",
       "Fare         512.3292  "
      ]
     },
     "execution_count": 14,
     "metadata": {},
     "output_type": "execute_result"
    }
   ],
   "source": [
    "#Statistical information\n",
    "train_d.describe().T"
   ]
  },
  {
   "cell_type": "code",
   "execution_count": 15,
   "id": "fa0d69e9",
   "metadata": {
    "execution": {
     "iopub.execute_input": "2024-09-28T21:35:53.455969Z",
     "iopub.status.busy": "2024-09-28T21:35:53.455561Z",
     "iopub.status.idle": "2024-09-28T21:35:53.492235Z",
     "shell.execute_reply": "2024-09-28T21:35:53.490044Z"
    },
    "papermill": {
     "duration": 0.054411,
     "end_time": "2024-09-28T21:35:53.495479",
     "exception": false,
     "start_time": "2024-09-28T21:35:53.441068",
     "status": "completed"
    },
    "tags": []
   },
   "outputs": [
    {
     "data": {
      "text/html": [
       "<div>\n",
       "<style scoped>\n",
       "    .dataframe tbody tr th:only-of-type {\n",
       "        vertical-align: middle;\n",
       "    }\n",
       "\n",
       "    .dataframe tbody tr th {\n",
       "        vertical-align: top;\n",
       "    }\n",
       "\n",
       "    .dataframe thead th {\n",
       "        text-align: right;\n",
       "    }\n",
       "</style>\n",
       "<table border=\"1\" class=\"dataframe\">\n",
       "  <thead>\n",
       "    <tr style=\"text-align: right;\">\n",
       "      <th></th>\n",
       "      <th>count</th>\n",
       "      <th>mean</th>\n",
       "      <th>std</th>\n",
       "      <th>min</th>\n",
       "      <th>25%</th>\n",
       "      <th>50%</th>\n",
       "      <th>75%</th>\n",
       "      <th>max</th>\n",
       "    </tr>\n",
       "  </thead>\n",
       "  <tbody>\n",
       "    <tr>\n",
       "      <th>PassengerId</th>\n",
       "      <td>418.0</td>\n",
       "      <td>1100.500000</td>\n",
       "      <td>120.810458</td>\n",
       "      <td>892.00</td>\n",
       "      <td>996.2500</td>\n",
       "      <td>1100.50000</td>\n",
       "      <td>1204.75</td>\n",
       "      <td>1309.0000</td>\n",
       "    </tr>\n",
       "    <tr>\n",
       "      <th>Pclass</th>\n",
       "      <td>418.0</td>\n",
       "      <td>2.265550</td>\n",
       "      <td>0.841838</td>\n",
       "      <td>1.00</td>\n",
       "      <td>1.0000</td>\n",
       "      <td>3.00000</td>\n",
       "      <td>3.00</td>\n",
       "      <td>3.0000</td>\n",
       "    </tr>\n",
       "    <tr>\n",
       "      <th>Age</th>\n",
       "      <td>418.0</td>\n",
       "      <td>30.272590</td>\n",
       "      <td>12.634534</td>\n",
       "      <td>0.17</td>\n",
       "      <td>23.0000</td>\n",
       "      <td>30.27259</td>\n",
       "      <td>35.75</td>\n",
       "      <td>76.0000</td>\n",
       "    </tr>\n",
       "    <tr>\n",
       "      <th>SibSp</th>\n",
       "      <td>418.0</td>\n",
       "      <td>0.447368</td>\n",
       "      <td>0.896760</td>\n",
       "      <td>0.00</td>\n",
       "      <td>0.0000</td>\n",
       "      <td>0.00000</td>\n",
       "      <td>1.00</td>\n",
       "      <td>8.0000</td>\n",
       "    </tr>\n",
       "    <tr>\n",
       "      <th>Parch</th>\n",
       "      <td>418.0</td>\n",
       "      <td>0.392344</td>\n",
       "      <td>0.981429</td>\n",
       "      <td>0.00</td>\n",
       "      <td>0.0000</td>\n",
       "      <td>0.00000</td>\n",
       "      <td>0.00</td>\n",
       "      <td>9.0000</td>\n",
       "    </tr>\n",
       "    <tr>\n",
       "      <th>Fare</th>\n",
       "      <td>418.0</td>\n",
       "      <td>35.627188</td>\n",
       "      <td>55.840500</td>\n",
       "      <td>0.00</td>\n",
       "      <td>7.8958</td>\n",
       "      <td>14.45420</td>\n",
       "      <td>31.50</td>\n",
       "      <td>512.3292</td>\n",
       "    </tr>\n",
       "  </tbody>\n",
       "</table>\n",
       "</div>"
      ],
      "text/plain": [
       "             count         mean         std     min       25%         50%  \\\n",
       "PassengerId  418.0  1100.500000  120.810458  892.00  996.2500  1100.50000   \n",
       "Pclass       418.0     2.265550    0.841838    1.00    1.0000     3.00000   \n",
       "Age          418.0    30.272590   12.634534    0.17   23.0000    30.27259   \n",
       "SibSp        418.0     0.447368    0.896760    0.00    0.0000     0.00000   \n",
       "Parch        418.0     0.392344    0.981429    0.00    0.0000     0.00000   \n",
       "Fare         418.0    35.627188   55.840500    0.00    7.8958    14.45420   \n",
       "\n",
       "                 75%        max  \n",
       "PassengerId  1204.75  1309.0000  \n",
       "Pclass          3.00     3.0000  \n",
       "Age            35.75    76.0000  \n",
       "SibSp           1.00     8.0000  \n",
       "Parch           0.00     9.0000  \n",
       "Fare           31.50   512.3292  "
      ]
     },
     "execution_count": 15,
     "metadata": {},
     "output_type": "execute_result"
    }
   ],
   "source": [
    "test_d.describe().T"
   ]
  },
  {
   "cell_type": "code",
   "execution_count": 16,
   "id": "ce8671e3",
   "metadata": {
    "execution": {
     "iopub.execute_input": "2024-09-28T21:35:53.531860Z",
     "iopub.status.busy": "2024-09-28T21:35:53.530523Z",
     "iopub.status.idle": "2024-09-28T21:35:53.549932Z",
     "shell.execute_reply": "2024-09-28T21:35:53.548815Z"
    },
    "papermill": {
     "duration": 0.037909,
     "end_time": "2024-09-28T21:35:53.552659",
     "exception": false,
     "start_time": "2024-09-28T21:35:53.514750",
     "status": "completed"
    },
    "tags": []
   },
   "outputs": [
    {
     "data": {
      "text/html": [
       "<div>\n",
       "<style scoped>\n",
       "    .dataframe tbody tr th:only-of-type {\n",
       "        vertical-align: middle;\n",
       "    }\n",
       "\n",
       "    .dataframe tbody tr th {\n",
       "        vertical-align: top;\n",
       "    }\n",
       "\n",
       "    .dataframe thead th {\n",
       "        text-align: right;\n",
       "    }\n",
       "</style>\n",
       "<table border=\"1\" class=\"dataframe\">\n",
       "  <thead>\n",
       "    <tr style=\"text-align: right;\">\n",
       "      <th></th>\n",
       "      <th>PassengerId</th>\n",
       "      <th>Pclass</th>\n",
       "      <th>Sex</th>\n",
       "      <th>Age</th>\n",
       "      <th>SibSp</th>\n",
       "      <th>Parch</th>\n",
       "      <th>Fare</th>\n",
       "    </tr>\n",
       "  </thead>\n",
       "  <tbody>\n",
       "    <tr>\n",
       "      <th>0</th>\n",
       "      <td>892</td>\n",
       "      <td>3</td>\n",
       "      <td>1</td>\n",
       "      <td>34.50000</td>\n",
       "      <td>0</td>\n",
       "      <td>0</td>\n",
       "      <td>7.8292</td>\n",
       "    </tr>\n",
       "    <tr>\n",
       "      <th>1</th>\n",
       "      <td>893</td>\n",
       "      <td>3</td>\n",
       "      <td>0</td>\n",
       "      <td>47.00000</td>\n",
       "      <td>1</td>\n",
       "      <td>0</td>\n",
       "      <td>7.0000</td>\n",
       "    </tr>\n",
       "    <tr>\n",
       "      <th>2</th>\n",
       "      <td>894</td>\n",
       "      <td>2</td>\n",
       "      <td>1</td>\n",
       "      <td>62.00000</td>\n",
       "      <td>0</td>\n",
       "      <td>0</td>\n",
       "      <td>9.6875</td>\n",
       "    </tr>\n",
       "    <tr>\n",
       "      <th>3</th>\n",
       "      <td>895</td>\n",
       "      <td>3</td>\n",
       "      <td>1</td>\n",
       "      <td>27.00000</td>\n",
       "      <td>0</td>\n",
       "      <td>0</td>\n",
       "      <td>8.6625</td>\n",
       "    </tr>\n",
       "    <tr>\n",
       "      <th>4</th>\n",
       "      <td>896</td>\n",
       "      <td>3</td>\n",
       "      <td>0</td>\n",
       "      <td>22.00000</td>\n",
       "      <td>1</td>\n",
       "      <td>1</td>\n",
       "      <td>12.2875</td>\n",
       "    </tr>\n",
       "    <tr>\n",
       "      <th>...</th>\n",
       "      <td>...</td>\n",
       "      <td>...</td>\n",
       "      <td>...</td>\n",
       "      <td>...</td>\n",
       "      <td>...</td>\n",
       "      <td>...</td>\n",
       "      <td>...</td>\n",
       "    </tr>\n",
       "    <tr>\n",
       "      <th>413</th>\n",
       "      <td>1305</td>\n",
       "      <td>3</td>\n",
       "      <td>1</td>\n",
       "      <td>30.27259</td>\n",
       "      <td>0</td>\n",
       "      <td>0</td>\n",
       "      <td>8.0500</td>\n",
       "    </tr>\n",
       "    <tr>\n",
       "      <th>414</th>\n",
       "      <td>1306</td>\n",
       "      <td>1</td>\n",
       "      <td>0</td>\n",
       "      <td>39.00000</td>\n",
       "      <td>0</td>\n",
       "      <td>0</td>\n",
       "      <td>108.9000</td>\n",
       "    </tr>\n",
       "    <tr>\n",
       "      <th>415</th>\n",
       "      <td>1307</td>\n",
       "      <td>3</td>\n",
       "      <td>1</td>\n",
       "      <td>38.50000</td>\n",
       "      <td>0</td>\n",
       "      <td>0</td>\n",
       "      <td>7.2500</td>\n",
       "    </tr>\n",
       "    <tr>\n",
       "      <th>416</th>\n",
       "      <td>1308</td>\n",
       "      <td>3</td>\n",
       "      <td>1</td>\n",
       "      <td>30.27259</td>\n",
       "      <td>0</td>\n",
       "      <td>0</td>\n",
       "      <td>8.0500</td>\n",
       "    </tr>\n",
       "    <tr>\n",
       "      <th>417</th>\n",
       "      <td>1309</td>\n",
       "      <td>3</td>\n",
       "      <td>1</td>\n",
       "      <td>30.27259</td>\n",
       "      <td>1</td>\n",
       "      <td>1</td>\n",
       "      <td>22.3583</td>\n",
       "    </tr>\n",
       "  </tbody>\n",
       "</table>\n",
       "<p>418 rows × 7 columns</p>\n",
       "</div>"
      ],
      "text/plain": [
       "     PassengerId  Pclass  Sex       Age  SibSp  Parch      Fare\n",
       "0            892       3    1  34.50000      0      0    7.8292\n",
       "1            893       3    0  47.00000      1      0    7.0000\n",
       "2            894       2    1  62.00000      0      0    9.6875\n",
       "3            895       3    1  27.00000      0      0    8.6625\n",
       "4            896       3    0  22.00000      1      1   12.2875\n",
       "..           ...     ...  ...       ...    ...    ...       ...\n",
       "413         1305       3    1  30.27259      0      0    8.0500\n",
       "414         1306       1    0  39.00000      0      0  108.9000\n",
       "415         1307       3    1  38.50000      0      0    7.2500\n",
       "416         1308       3    1  30.27259      0      0    8.0500\n",
       "417         1309       3    1  30.27259      1      1   22.3583\n",
       "\n",
       "[418 rows x 7 columns]"
      ]
     },
     "execution_count": 16,
     "metadata": {},
     "output_type": "execute_result"
    }
   ],
   "source": [
    "#To make a perfect correlation matrix we need to encode the categorical features first\n",
    "encoder = LabelEncoder()\n",
    "def encode(data):\n",
    "    data['Sex']= encoder.fit_transform(data['Sex'])\n",
    "    return data\n",
    "encode(train_d)\n",
    "encode(test_d)"
   ]
  },
  {
   "cell_type": "markdown",
   "id": "363d72d7",
   "metadata": {
    "papermill": {
     "duration": 0.01598,
     "end_time": "2024-09-28T21:35:53.586441",
     "exception": false,
     "start_time": "2024-09-28T21:35:53.570461",
     "status": "completed"
    },
    "tags": []
   },
   "source": [
    "Now Male is equal to 1 and Female is equal to 0"
   ]
  },
  {
   "cell_type": "code",
   "execution_count": 17,
   "id": "2a444f37",
   "metadata": {
    "execution": {
     "iopub.execute_input": "2024-09-28T21:35:53.615340Z",
     "iopub.status.busy": "2024-09-28T21:35:53.614888Z",
     "iopub.status.idle": "2024-09-28T21:35:54.304400Z",
     "shell.execute_reply": "2024-09-28T21:35:54.303139Z"
    },
    "papermill": {
     "duration": 0.707466,
     "end_time": "2024-09-28T21:35:54.307356",
     "exception": false,
     "start_time": "2024-09-28T21:35:53.599890",
     "status": "completed"
    },
    "tags": []
   },
   "outputs": [
    {
     "data": {
      "text/plain": [
       "<Axes: title={'center': 'Correlation Matrix for the train dataset'}>"
      ]
     },
     "execution_count": 17,
     "metadata": {},
     "output_type": "execute_result"
    },
    {
     "data": {
      "image/png": "[encoded data removed]",
      "text/plain": [
       "<Figure size 640x480 with 2 Axes>"
      ]
     },
     "metadata": {},
     "output_type": "display_data"
    }
   ],
   "source": [
    "#Correlation matrix\n",
    "corr_mat = train_d.corr()\n",
    "plt.title(\"Correlation Matrix for the train dataset\")\n",
    "sns.heatmap(corr_mat , annot = True,fmt='.2f')"
   ]
  },
  {
   "cell_type": "markdown",
   "id": "8da379ae",
   "metadata": {
    "papermill": {
     "duration": 0.014439,
     "end_time": "2024-09-28T21:35:54.336818",
     "exception": false,
     "start_time": "2024-09-28T21:35:54.322379",
     "status": "completed"
    },
    "tags": []
   },
   "source": [
    "### Now lets check on some features and their relations to the survived feature"
   ]
  },
  {
   "cell_type": "code",
   "execution_count": 18,
   "id": "56bece28",
   "metadata": {
    "execution": {
     "iopub.execute_input": "2024-09-28T21:35:54.371434Z",
     "iopub.status.busy": "2024-09-28T21:35:54.370463Z",
     "iopub.status.idle": "2024-09-28T21:35:54.376060Z",
     "shell.execute_reply": "2024-09-28T21:35:54.374767Z"
    },
    "papermill": {
     "duration": 0.025363,
     "end_time": "2024-09-28T21:35:54.378487",
     "exception": false,
     "start_time": "2024-09-28T21:35:54.353124",
     "status": "completed"
    },
    "tags": []
   },
   "outputs": [],
   "source": [
    "#from the correlation matrix we can figure out that the relation between 'Pclass , Sex' are pretty high so lets visualize each one of them"
   ]
  },
  {
   "cell_type": "code",
   "execution_count": 19,
   "id": "a981fd9a",
   "metadata": {
    "execution": {
     "iopub.execute_input": "2024-09-28T21:35:54.411576Z",
     "iopub.status.busy": "2024-09-28T21:35:54.411155Z",
     "iopub.status.idle": "2024-09-28T21:35:54.823294Z",
     "shell.execute_reply": "2024-09-28T21:35:54.822123Z"
    },
    "papermill": {
     "duration": 0.431481,
     "end_time": "2024-09-28T21:35:54.825650",
     "exception": false,
     "start_time": "2024-09-28T21:35:54.394169",
     "status": "completed"
    },
    "tags": []
   },
   "outputs": [
    {
     "data": {
      "image/png": "[encoded data removed]",
      "text/plain": [
       "<Figure size 640x480 with 1 Axes>"
      ]
     },
     "metadata": {},
     "output_type": "display_data"
    },
    {
     "data": {
      "image/png": "[encoded data removed]",
      "text/plain": [
       "<Figure size 640x480 with 1 Axes>"
      ]
     },
     "metadata": {},
     "output_type": "display_data"
    }
   ],
   "source": [
    "features = ['Pclass', 'Sex']\n",
    "for i in features:\n",
    "    sns.countplot(data=train_d , x =train_d[i] , hue = train_d['Survived'])\n",
    "    plt.title(f\"{i} with Survived Count\")\n",
    "    plt.show()"
   ]
  },
  {
   "cell_type": "markdown",
   "id": "38c1e861",
   "metadata": {
    "papermill": {
     "duration": 0.015333,
     "end_time": "2024-09-28T21:35:54.856733",
     "exception": false,
     "start_time": "2024-09-28T21:35:54.841400",
     "status": "completed"
    },
    "tags": []
   },
   "source": [
    "From the data above we can see that the number of females(0) which survived is higher than males"
   ]
  },
  {
   "cell_type": "markdown",
   "id": "9ff0f74c",
   "metadata": {
    "papermill": {
     "duration": 0.015194,
     "end_time": "2024-09-28T21:35:54.887261",
     "exception": false,
     "start_time": "2024-09-28T21:35:54.872067",
     "status": "completed"
    },
    "tags": []
   },
   "source": [
    "and the pclass 1 is the highest in the survived rate"
   ]
  },
  {
   "cell_type": "code",
   "execution_count": 20,
   "id": "d9898e3d",
   "metadata": {
    "execution": {
     "iopub.execute_input": "2024-09-28T21:35:54.919838Z",
     "iopub.status.busy": "2024-09-28T21:35:54.919448Z",
     "iopub.status.idle": "2024-09-28T21:35:55.190685Z",
     "shell.execute_reply": "2024-09-28T21:35:55.189085Z"
    },
    "papermill": {
     "duration": 0.290651,
     "end_time": "2024-09-28T21:35:55.193341",
     "exception": false,
     "start_time": "2024-09-28T21:35:54.902690",
     "status": "completed"
    },
    "tags": []
   },
   "outputs": [
    {
     "data": {
      "image/png": "[encoded data removed]",
      "text/plain": [
       "<Figure size 640x480 with 1 Axes>"
      ]
     },
     "metadata": {},
     "output_type": "display_data"
    }
   ],
   "source": [
    "sns.histplot(train_d['Age'])\n",
    "plt.title(\"Ages of the passengers\")\n",
    "plt.show()"
   ]
  },
  {
   "cell_type": "markdown",
   "id": "85bbd18a",
   "metadata": {
    "papermill": {
     "duration": 0.015928,
     "end_time": "2024-09-28T21:35:55.225415",
     "exception": false,
     "start_time": "2024-09-28T21:35:55.209487",
     "status": "completed"
    },
    "tags": []
   },
   "source": [
    "## Step 3: Modeling and Evaluating"
   ]
  },
  {
   "cell_type": "code",
   "execution_count": 21,
   "id": "1a007643",
   "metadata": {
    "execution": {
     "iopub.execute_input": "2024-09-28T21:35:55.259252Z",
     "iopub.status.busy": "2024-09-28T21:35:55.258812Z",
     "iopub.status.idle": "2024-09-28T21:35:55.265523Z",
     "shell.execute_reply": "2024-09-28T21:35:55.264282Z"
    },
    "papermill": {
     "duration": 0.02662,
     "end_time": "2024-09-28T21:35:55.267960",
     "exception": false,
     "start_time": "2024-09-28T21:35:55.241340",
     "status": "completed"
    },
    "tags": []
   },
   "outputs": [],
   "source": [
    "X = train_d.drop(\"Survived\", axis=1 )\n",
    "y = train_d['Survived']"
   ]
  },
  {
   "cell_type": "code",
   "execution_count": 22,
   "id": "be9f5a4b",
   "metadata": {
    "execution": {
     "iopub.execute_input": "2024-09-28T21:35:55.302291Z",
     "iopub.status.busy": "2024-09-28T21:35:55.301735Z",
     "iopub.status.idle": "2024-09-28T21:35:55.310683Z",
     "shell.execute_reply": "2024-09-28T21:35:55.309615Z"
    },
    "papermill": {
     "duration": 0.028718,
     "end_time": "2024-09-28T21:35:55.313100",
     "exception": false,
     "start_time": "2024-09-28T21:35:55.284382",
     "status": "completed"
    },
    "tags": []
   },
   "outputs": [],
   "source": [
    "X_train , X_test , y_train , y_test = train_test_split(X,y,test_size=0.2 , random_state=4)"
   ]
  },
  {
   "cell_type": "code",
   "execution_count": 23,
   "id": "a7204ca3",
   "metadata": {
    "execution": {
     "iopub.execute_input": "2024-09-28T21:35:55.348325Z",
     "iopub.status.busy": "2024-09-28T21:35:55.347883Z",
     "iopub.status.idle": "2024-09-28T21:35:55.354043Z",
     "shell.execute_reply": "2024-09-28T21:35:55.352669Z"
    },
    "papermill": {
     "duration": 0.026863,
     "end_time": "2024-09-28T21:35:55.356614",
     "exception": false,
     "start_time": "2024-09-28T21:35:55.329751",
     "status": "completed"
    },
    "tags": []
   },
   "outputs": [],
   "source": [
    "models = {'LogisticReg':LogisticRegression()\n",
    "         ,'DecisionTree':DecisionTreeClassifier()\n",
    "         ,'RandForest':RandomForestClassifier()\n",
    "         ,'SVC':SVC()\n",
    "         ,'GaussianNaiveBayes':GaussianNB()\n",
    "         ,'KNN':KNeighborsClassifier()\n",
    "         ,'GradientBoost':GradientBoostingClassifier()}"
   ]
  },
  {
   "cell_type": "code",
   "execution_count": 24,
   "id": "0b2d2121",
   "metadata": {
    "execution": {
     "iopub.execute_input": "2024-09-28T21:35:55.391794Z",
     "iopub.status.busy": "2024-09-28T21:35:55.391367Z",
     "iopub.status.idle": "2024-09-28T21:35:55.915771Z",
     "shell.execute_reply": "2024-09-28T21:35:55.914611Z"
    },
    "papermill": {
     "duration": 0.544738,
     "end_time": "2024-09-28T21:35:55.918270",
     "exception": false,
     "start_time": "2024-09-28T21:35:55.373532",
     "status": "completed"
    },
    "tags": []
   },
   "outputs": [
    {
     "data": {
      "text/html": [
       "<div>\n",
       "<style scoped>\n",
       "    .dataframe tbody tr th:only-of-type {\n",
       "        vertical-align: middle;\n",
       "    }\n",
       "\n",
       "    .dataframe tbody tr th {\n",
       "        vertical-align: top;\n",
       "    }\n",
       "\n",
       "    .dataframe thead th {\n",
       "        text-align: right;\n",
       "    }\n",
       "</style>\n",
       "<table border=\"1\" class=\"dataframe\">\n",
       "  <thead>\n",
       "    <tr style=\"text-align: right;\">\n",
       "      <th></th>\n",
       "      <th>Model</th>\n",
       "      <th>Accuracy</th>\n",
       "      <th>Precision</th>\n",
       "      <th>Recall</th>\n",
       "      <th>F1 Score</th>\n",
       "    </tr>\n",
       "  </thead>\n",
       "  <tbody>\n",
       "    <tr>\n",
       "      <th>2</th>\n",
       "      <td>RandForest</td>\n",
       "      <td>0.860335</td>\n",
       "      <td>0.843137</td>\n",
       "      <td>0.716667</td>\n",
       "      <td>0.774775</td>\n",
       "    </tr>\n",
       "    <tr>\n",
       "      <th>6</th>\n",
       "      <td>GradientBoost</td>\n",
       "      <td>0.854749</td>\n",
       "      <td>0.826923</td>\n",
       "      <td>0.716667</td>\n",
       "      <td>0.767857</td>\n",
       "    </tr>\n",
       "    <tr>\n",
       "      <th>0</th>\n",
       "      <td>LogisticReg</td>\n",
       "      <td>0.815642</td>\n",
       "      <td>0.764706</td>\n",
       "      <td>0.650000</td>\n",
       "      <td>0.702703</td>\n",
       "    </tr>\n",
       "    <tr>\n",
       "      <th>1</th>\n",
       "      <td>DecisionTree</td>\n",
       "      <td>0.804469</td>\n",
       "      <td>0.735849</td>\n",
       "      <td>0.650000</td>\n",
       "      <td>0.690265</td>\n",
       "    </tr>\n",
       "    <tr>\n",
       "      <th>4</th>\n",
       "      <td>GaussianNaiveBayes</td>\n",
       "      <td>0.804469</td>\n",
       "      <td>0.719298</td>\n",
       "      <td>0.683333</td>\n",
       "      <td>0.700855</td>\n",
       "    </tr>\n",
       "    <tr>\n",
       "      <th>3</th>\n",
       "      <td>SVC</td>\n",
       "      <td>0.698324</td>\n",
       "      <td>0.875000</td>\n",
       "      <td>0.116667</td>\n",
       "      <td>0.205882</td>\n",
       "    </tr>\n",
       "    <tr>\n",
       "      <th>5</th>\n",
       "      <td>KNN</td>\n",
       "      <td>0.681564</td>\n",
       "      <td>0.533333</td>\n",
       "      <td>0.400000</td>\n",
       "      <td>0.457143</td>\n",
       "    </tr>\n",
       "  </tbody>\n",
       "</table>\n",
       "</div>"
      ],
      "text/plain": [
       "                Model  Accuracy  Precision    Recall  F1 Score\n",
       "2          RandForest  0.860335   0.843137  0.716667  0.774775\n",
       "6       GradientBoost  0.854749   0.826923  0.716667  0.767857\n",
       "0         LogisticReg  0.815642   0.764706  0.650000  0.702703\n",
       "1        DecisionTree  0.804469   0.735849  0.650000  0.690265\n",
       "4  GaussianNaiveBayes  0.804469   0.719298  0.683333  0.700855\n",
       "3                 SVC  0.698324   0.875000  0.116667  0.205882\n",
       "5                 KNN  0.681564   0.533333  0.400000  0.457143"
      ]
     },
     "execution_count": 24,
     "metadata": {},
     "output_type": "execute_result"
    }
   ],
   "source": [
    "# Create an empty dictionary to store the results\n",
    "metrics_dict = {\n",
    "    'Model': [],\n",
    "    'Accuracy': [],\n",
    "    'Precision': [],\n",
    "    'Recall': [],\n",
    "    'F1 Score': []\n",
    "}\n",
    "\n",
    "# Loop through each model, train, predict, and collect the metrics\n",
    "for model_name, model in models.items():\n",
    "    model.fit(X_train, y_train)  # Train the model\n",
    "    y_pred = model.predict(X_test)  # Predict using the test set\n",
    "    \n",
    "    # Calculate the evaluation metrics\n",
    "    acc = accuracy_score(y_test, y_pred)\n",
    "    precision = precision_score(y_test, y_pred) \n",
    "    recall = recall_score(y_test, y_pred)\n",
    "    f1 = f1_score(y_test, y_pred)\n",
    "    \n",
    "    # Append the results to the dictionary\n",
    "    metrics_dict['Model'].append(model_name)\n",
    "    metrics_dict['Accuracy'].append(acc)\n",
    "    metrics_dict['Precision'].append(precision)\n",
    "    metrics_dict['Recall'].append(recall)\n",
    "    metrics_dict['F1 Score'].append(f1)\n",
    "\n",
    "# Convert the dictionary to a DataFrame\n",
    "metrics_df = pd.DataFrame(metrics_dict)\n",
    "\n",
    "# Sort the DataFrame by accuracy for better visibility\n",
    "metrics_df = metrics_df.sort_values(by='Accuracy', ascending=False)\n",
    "\n",
    "# Display the DataFrame in a clear tabular format\n",
    "metrics_df"
   ]
  },
  {
   "cell_type": "markdown",
   "id": "aeb96728",
   "metadata": {
    "papermill": {
     "duration": 0.015778,
     "end_time": "2024-09-28T21:35:55.950226",
     "exception": false,
     "start_time": "2024-09-28T21:35:55.934448",
     "status": "completed"
    },
    "tags": []
   },
   "source": [
    "We can notice that the highest one in them all is the Random Forest"
   ]
  },
  {
   "cell_type": "code",
   "execution_count": 25,
   "id": "38734bb8",
   "metadata": {
    "execution": {
     "iopub.execute_input": "2024-09-28T21:35:55.984412Z",
     "iopub.status.busy": "2024-09-28T21:35:55.983956Z",
     "iopub.status.idle": "2024-09-28T21:35:56.221512Z",
     "shell.execute_reply": "2024-09-28T21:35:56.220075Z"
    },
    "papermill": {
     "duration": 0.257855,
     "end_time": "2024-09-28T21:35:56.224101",
     "exception": false,
     "start_time": "2024-09-28T21:35:55.966246",
     "status": "completed"
    },
    "tags": []
   },
   "outputs": [
    {
     "data": {
      "text/html": [
       "<style>#sk-container-id-1 {color: black;background-color: white;}#sk-container-id-1 pre{padding: 0;}#sk-container-id-1 div.sk-toggleable {background-color: white;}#sk-container-id-1 label.sk-toggleable__label {cursor: pointer;display: block;width: 100%;margin-bottom: 0;padding: 0.3em;box-sizing: border-box;text-align: center;}#sk-container-id-1 label.sk-toggleable__label-arrow:before {content: \"▸\";float: left;margin-right: 0.25em;color: #696969;}#sk-container-id-1 label.sk-toggleable__label-arrow:hover:before {color: black;}#sk-container-id-1 div.sk-estimator:hover label.sk-toggleable__label-arrow:before {color: black;}#sk-container-id-1 div.sk-toggleable__content {max-height: 0;max-width: 0;overflow: hidden;text-align: left;background-color: #f0f8ff;}#sk-container-id-1 div.sk-toggleable__content pre {margin: 0.2em;color: black;border-radius: 0.25em;background-color: #f0f8ff;}#sk-container-id-1 input.sk-toggleable__control:checked~div.sk-toggleable__content {max-height: 200px;max-width: 100%;overflow: auto;}#sk-container-id-1 input.sk-toggleable__control:checked~label.sk-toggleable__label-arrow:before {content: \"▾\";}#sk-container-id-1 div.sk-estimator input.sk-toggleable__control:checked~label.sk-toggleable__label {background-color: #d4ebff;}#sk-container-id-1 div.sk-label input.sk-toggleable__control:checked~label.sk-toggleable__label {background-color: #d4ebff;}#sk-container-id-1 input.sk-hidden--visually {border: 0;clip: rect(1px 1px 1px 1px);clip: rect(1px, 1px, 1px, 1px);height: 1px;margin: -1px;overflow: hidden;padding: 0;position: absolute;width: 1px;}#sk-container-id-1 div.sk-estimator {font-family: monospace;background-color: #f0f8ff;border: 1px dotted black;border-radius: 0.25em;box-sizing: border-box;margin-bottom: 0.5em;}#sk-container-id-1 div.sk-estimator:hover {background-color: #d4ebff;}#sk-container-id-1 div.sk-parallel-item::after {content: \"\";width: 100%;border-bottom: 1px solid gray;flex-grow: 1;}#sk-container-id-1 div.sk-label:hover label.sk-toggleable__label {background-color: #d4ebff;}#sk-container-id-1 div.sk-serial::before {content: \"\";position: absolute;border-left: 1px solid gray;box-sizing: border-box;top: 0;bottom: 0;left: 50%;z-index: 0;}#sk-container-id-1 div.sk-serial {display: flex;flex-direction: column;align-items: center;background-color: white;padding-right: 0.2em;padding-left: 0.2em;position: relative;}#sk-container-id-1 div.sk-item {position: relative;z-index: 1;}#sk-container-id-1 div.sk-parallel {display: flex;align-items: stretch;justify-content: center;background-color: white;position: relative;}#sk-container-id-1 div.sk-item::before, #sk-container-id-1 div.sk-parallel-item::before {content: \"\";position: absolute;border-left: 1px solid gray;box-sizing: border-box;top: 0;bottom: 0;left: 50%;z-index: -1;}#sk-container-id-1 div.sk-parallel-item {display: flex;flex-direction: column;z-index: 1;position: relative;background-color: white;}#sk-container-id-1 div.sk-parallel-item:first-child::after {align-self: flex-end;width: 50%;}#sk-container-id-1 div.sk-parallel-item:last-child::after {align-self: flex-start;width: 50%;}#sk-container-id-1 div.sk-parallel-item:only-child::after {width: 0;}#sk-container-id-1 div.sk-dashed-wrapped {border: 1px dashed gray;margin: 0 0.4em 0.5em 0.4em;box-sizing: border-box;padding-bottom: 0.4em;background-color: white;}#sk-container-id-1 div.sk-label label {font-family: monospace;font-weight: bold;display: inline-block;line-height: 1.2em;}#sk-container-id-1 div.sk-label-container {text-align: center;}#sk-container-id-1 div.sk-container {/* jupyter's `normalize.less` sets `[hidden] { display: none; }` but bootstrap.min.css set `[hidden] { display: none !important; }` so we also need the `!important` here to be able to override the default hidden behavior on the sphinx rendered scikit-learn.org. See: https://github.com/scikit-learn/scikit-learn/issues/21755 */display: inline-block !important;position: relative;}#sk-container-id-1 div.sk-text-repr-fallback {display: none;}</style><div id=\"sk-container-id-1\" class=\"sk-top-container\"><div class=\"sk-text-repr-fallback\"><pre>RandomForestClassifier()</pre><b>In a Jupyter environment, please rerun this cell to show the HTML representation or trust the notebook. <br />On GitHub, the HTML representation is unable to render, please try loading this page with nbviewer.org.</b></div><div class=\"sk-container\" hidden><div class=\"sk-item\"><div class=\"sk-estimator sk-toggleable\"><input class=\"sk-toggleable__control sk-hidden--visually\" id=\"sk-estimator-id-1\" type=\"checkbox\" checked><label for=\"sk-estimator-id-1\" class=\"sk-toggleable__label sk-toggleable__label-arrow\">RandomForestClassifier</label><div class=\"sk-toggleable__content\"><pre>RandomForestClassifier()</pre></div></div></div></div></div>"
      ],
      "text/plain": [
       "RandomForestClassifier()"
      ]
     },
     "execution_count": 25,
     "metadata": {},
     "output_type": "execute_result"
    }
   ],
   "source": [
    "FinalModel = RandomForestClassifier()\n",
    "FinalModel.fit(X_train,y_train)"
   ]
  },
  {
   "cell_type": "code",
   "execution_count": 26,
   "id": "580fc3ba",
   "metadata": {
    "execution": {
     "iopub.execute_input": "2024-09-28T21:35:56.259522Z",
     "iopub.status.busy": "2024-09-28T21:35:56.259093Z",
     "iopub.status.idle": "2024-09-28T21:35:56.278671Z",
     "shell.execute_reply": "2024-09-28T21:35:56.277539Z"
    },
    "papermill": {
     "duration": 0.039975,
     "end_time": "2024-09-28T21:35:56.281356",
     "exception": false,
     "start_time": "2024-09-28T21:35:56.241381",
     "status": "completed"
    },
    "tags": []
   },
   "outputs": [],
   "source": [
    "# make a variable to store the values of the predctions\n",
    "FinalPredcs = FinalModel.predict(test_d)\n",
    "#test on the other data set that we want it to be the output for the submission"
   ]
  },
  {
   "cell_type": "code",
   "execution_count": 27,
   "id": "aacad0f5",
   "metadata": {
    "execution": {
     "iopub.execute_input": "2024-09-28T21:35:56.317257Z",
     "iopub.status.busy": "2024-09-28T21:35:56.316846Z",
     "iopub.status.idle": "2024-09-28T21:35:56.322012Z",
     "shell.execute_reply": "2024-09-28T21:35:56.320948Z"
    },
    "papermill": {
     "duration": 0.025655,
     "end_time": "2024-09-28T21:35:56.324182",
     "exception": false,
     "start_time": "2024-09-28T21:35:56.298527",
     "status": "completed"
    },
    "tags": []
   },
   "outputs": [],
   "source": [
    "#make a variable to store the values of the passengers id\n",
    "PassIDS = test_d['PassengerId']"
   ]
  },
  {
   "cell_type": "code",
   "execution_count": 28,
   "id": "072b80f9",
   "metadata": {
    "execution": {
     "iopub.execute_input": "2024-09-28T21:35:56.358759Z",
     "iopub.status.busy": "2024-09-28T21:35:56.358325Z",
     "iopub.status.idle": "2024-09-28T21:35:56.364449Z",
     "shell.execute_reply": "2024-09-28T21:35:56.363372Z"
    },
    "papermill": {
     "duration": 0.026495,
     "end_time": "2024-09-28T21:35:56.366924",
     "exception": false,
     "start_time": "2024-09-28T21:35:56.340429",
     "status": "completed"
    },
    "tags": []
   },
   "outputs": [],
   "source": [
    "Final_Result = pd.DataFrame({'PassengerId':PassIDS,'Survived':FinalPredcs})"
   ]
  },
  {
   "cell_type": "code",
   "execution_count": 29,
   "id": "19e00220",
   "metadata": {
    "execution": {
     "iopub.execute_input": "2024-09-28T21:35:56.403284Z",
     "iopub.status.busy": "2024-09-28T21:35:56.402864Z",
     "iopub.status.idle": "2024-09-28T21:35:56.414962Z",
     "shell.execute_reply": "2024-09-28T21:35:56.413861Z"
    },
    "papermill": {
     "duration": 0.033228,
     "end_time": "2024-09-28T21:35:56.417268",
     "exception": false,
     "start_time": "2024-09-28T21:35:56.384040",
     "status": "completed"
    },
    "tags": []
   },
   "outputs": [
    {
     "data": {
      "text/html": [
       "<div>\n",
       "<style scoped>\n",
       "    .dataframe tbody tr th:only-of-type {\n",
       "        vertical-align: middle;\n",
       "    }\n",
       "\n",
       "    .dataframe tbody tr th {\n",
       "        vertical-align: top;\n",
       "    }\n",
       "\n",
       "    .dataframe thead th {\n",
       "        text-align: right;\n",
       "    }\n",
       "</style>\n",
       "<table border=\"1\" class=\"dataframe\">\n",
       "  <thead>\n",
       "    <tr style=\"text-align: right;\">\n",
       "      <th></th>\n",
       "      <th>PassengerId</th>\n",
       "      <th>Survived</th>\n",
       "    </tr>\n",
       "  </thead>\n",
       "  <tbody>\n",
       "    <tr>\n",
       "      <th>0</th>\n",
       "      <td>892</td>\n",
       "      <td>0</td>\n",
       "    </tr>\n",
       "    <tr>\n",
       "      <th>1</th>\n",
       "      <td>893</td>\n",
       "      <td>0</td>\n",
       "    </tr>\n",
       "    <tr>\n",
       "      <th>2</th>\n",
       "      <td>894</td>\n",
       "      <td>0</td>\n",
       "    </tr>\n",
       "    <tr>\n",
       "      <th>3</th>\n",
       "      <td>895</td>\n",
       "      <td>0</td>\n",
       "    </tr>\n",
       "    <tr>\n",
       "      <th>4</th>\n",
       "      <td>896</td>\n",
       "      <td>0</td>\n",
       "    </tr>\n",
       "    <tr>\n",
       "      <th>...</th>\n",
       "      <td>...</td>\n",
       "      <td>...</td>\n",
       "    </tr>\n",
       "    <tr>\n",
       "      <th>413</th>\n",
       "      <td>1305</td>\n",
       "      <td>0</td>\n",
       "    </tr>\n",
       "    <tr>\n",
       "      <th>414</th>\n",
       "      <td>1306</td>\n",
       "      <td>1</td>\n",
       "    </tr>\n",
       "    <tr>\n",
       "      <th>415</th>\n",
       "      <td>1307</td>\n",
       "      <td>0</td>\n",
       "    </tr>\n",
       "    <tr>\n",
       "      <th>416</th>\n",
       "      <td>1308</td>\n",
       "      <td>0</td>\n",
       "    </tr>\n",
       "    <tr>\n",
       "      <th>417</th>\n",
       "      <td>1309</td>\n",
       "      <td>0</td>\n",
       "    </tr>\n",
       "  </tbody>\n",
       "</table>\n",
       "<p>418 rows × 2 columns</p>\n",
       "</div>"
      ],
      "text/plain": [
       "     PassengerId  Survived\n",
       "0            892         0\n",
       "1            893         0\n",
       "2            894         0\n",
       "3            895         0\n",
       "4            896         0\n",
       "..           ...       ...\n",
       "413         1305         0\n",
       "414         1306         1\n",
       "415         1307         0\n",
       "416         1308         0\n",
       "417         1309         0\n",
       "\n",
       "[418 rows x 2 columns]"
      ]
     },
     "execution_count": 29,
     "metadata": {},
     "output_type": "execute_result"
    }
   ],
   "source": [
    "Final_Result"
   ]
  },
  {
   "cell_type": "code",
   "execution_count": 30,
   "id": "e5950bff",
   "metadata": {
    "execution": {
     "iopub.execute_input": "2024-09-28T21:35:56.452326Z",
     "iopub.status.busy": "2024-09-28T21:35:56.451893Z",
     "iopub.status.idle": "2024-09-28T21:35:56.460708Z",
     "shell.execute_reply": "2024-09-28T21:35:56.459568Z"
    },
    "papermill": {
     "duration": 0.0293,
     "end_time": "2024-09-28T21:35:56.463171",
     "exception": false,
     "start_time": "2024-09-28T21:35:56.433871",
     "status": "completed"
    },
    "tags": []
   },
   "outputs": [],
   "source": [
    "Final_Result.to_csv(\"submission.csv\",index = False)"
   ]
  }
 ],
 "metadata": {
  "kaggle": {
   "accelerator": "none",
   "dataSources": [
    {
     "databundleVersionId": 26502,
     "sourceId": 3136,
     "sourceType": "competition"
    }
   ],
   "dockerImageVersionId": 30775,
   "isGpuEnabled": false,
   "isInternetEnabled": true,
   "language": "python",
   "sourceType": "notebook"
  },
  "kernelspec": {
   "display_name": "Python 3",
   "language": "python",
   "name": "python3"
  },
  "language_info": {
   "codemirror_mode": {
    "name": "ipython",
    "version": 3
   },
   "file_extension": ".py",
   "mimetype": "text/x-python",
   "name": "python",
   "nbconvert_exporter": "python",
   "pygments_lexer": "ipython3",
   "version": "3.10.14"
  },
  "papermill": {
   "default_parameters": {},
   "duration": 12.534049,
   "end_time": "2024-09-28T21:35:57.203868",
   "environment_variables": {},
   "exception": null,
   "input_path": "__notebook__.ipynb",
   "output_path": "__notebook__.ipynb",
   "parameters": {},
   "start_time": "2024-09-28T21:35:44.669819",
   "version": "2.6.0"
  }
 },
 "nbformat": 4,
 "nbformat_minor": 5
}
